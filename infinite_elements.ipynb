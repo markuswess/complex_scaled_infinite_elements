{
 "cells": [
  {
   "cell_type": "markdown",
   "metadata": {},
   "source": [
    "# Infinite elements\n",
    "\n",
    "The infinite element basis functions consist of generalized Laguerre functions (cf. [Section 6.3](dissertation_wess.pdf#section.6.3) and [Definition A.10](dissertation_wess.pdf#thm.A.10)).\n",
    "These functions can be evaluated using the formula [A.11(iv)](dissertation_wess.pdf#Item.54) (note that here the arguments are scaled by a factor $2$) which can be implemented in python as follows."
   ]
  },
  {
   "cell_type": "code",
   "execution_count": 1,
   "metadata": {},
   "outputs": [],
   "source": [
    "# %load -r 1-13 infinite_elements.py\n",
    "from numpy import array,zeros,exp,shape,atleast_1d,eye,diag,ones\n",
    "\n",
    "def gen_laguerre_func(n,m,x):\n",
    "    x = atleast_1d(x)\n",
    "    res = zeros((n+1,len(x))) \n",
    "    if x[0] is complex:\n",
    "        res+=0j\n",
    "\n",
    "    res[0,:]=exp(-x/4)\n",
    "    res[1,:]=exp(-x/4)*(m+1-x)\n",
    "    for i in range(1,n):\n",
    "        res[i+1,:]=1/(i+1)*((2*i+m+1-x)*res[i,:]-(i+m)*res[i-1,:])\n",
    "    return res*exp(-x/4)"
   ]
  },
  {
   "cell_type": "markdown",
   "metadata": {},
   "source": [
    "## Assembling the infinite element matrices\n",
    "\n",
    "The infinite element matrices can be assembled using either explicit formulas or numerical integration. \n",
    "\n",
    "### Using explicit formulas\n",
    "\n",
    "A simple way to utilize explicit formulas is to represent the basis functions with index $-1$ in the orthogonal basis with index $0$ and compute the according matrices as it is done in the following."
   ]
  },
  {
   "cell_type": "code",
   "execution_count": 2,
   "metadata": {},
   "outputs": [],
   "source": [
    "# %load -r 15-32 infinite_elements.py\n",
    "def ie_matrices(N):\n",
    "    Tp=-eye(N+1)\n",
    "    Tp[:-1,1:]-=eye(N+1-1)\n",
    "    Tm=eye(N+1)\n",
    "    Tm[:-1,1:]-=eye(N+1-1)\n",
    "\n",
    "    Diffop=-1/2*(-diag(range(1,2*N+1+1,2))\n",
    "                +diag(range(1,N+1),1)+diag(range(1,N+1),-1))\n",
    "\n",
    "    ie_mass = 1/2*Tm.T@Tm\n",
    "    ie_laplace = 1/2*Tp.T@Tp\n",
    "    ie_drift = 1/2*Tm.T@Tp\n",
    "    ie_mass_x = 1/2*Tm.T@Diffop@Tm\n",
    "    ie_mass_xx = 1/2*Tm.T@Diffop@Diffop@Tm\n",
    "    ie_laplace_x = 1/2*Tp.T@Diffop@Tp\n",
    "    ie_laplace_xx = 1/2*Tp.T@Diffop@Diffop@Tp\n",
    "    ie_drift_x = 1/2*Tm.T@Diffop@Tp\n",
    "    return ie_mass,ie_laplace,ie_drift,ie_mass_x, ie_mass_xx, ie_laplace_x, ie_laplace_xx,ie_drift_x"
   ]
  },
  {
   "cell_type": "markdown",
   "metadata": {},
   "source": [
    "This gives exactly the matrices from [Section 7.4.1](dissertation_wess.pdf#subsection.7.4.1)"
   ]
  },
  {
   "cell_type": "code",
   "execution_count": 3,
   "metadata": {
    "scrolled": true
   },
   "outputs": [
    {
     "name": "stdout",
     "output_type": "stream",
     "text": [
      "mass:\n",
      "[[ 0.5 -0.5  0.   0.   0.   0. ]\n",
      " [-0.5  1.  -0.5  0.   0.   0. ]\n",
      " [ 0.  -0.5  1.  -0.5  0.   0. ]\n",
      " [ 0.   0.  -0.5  1.  -0.5  0. ]\n",
      " [ 0.   0.   0.  -0.5  1.  -0.5]\n",
      " [ 0.   0.   0.   0.  -0.5  1. ]]\n",
      "stiffness:\n",
      "[[0.5 0.5 0.  0.  0.  0. ]\n",
      " [0.5 1.  0.5 0.  0.  0. ]\n",
      " [0.  0.5 1.  0.5 0.  0. ]\n",
      " [0.  0.  0.5 1.  0.5 0. ]\n",
      " [0.  0.  0.  0.5 1.  0.5]\n",
      " [0.  0.  0.  0.  0.5 1. ]]\n",
      "drift:\n",
      "[[-0.5 -0.5  0.   0.   0.   0. ]\n",
      " [ 0.5  0.  -0.5  0.   0.   0. ]\n",
      " [ 0.   0.5  0.  -0.5  0.   0. ]\n",
      " [ 0.   0.   0.5  0.  -0.5  0. ]\n",
      " [ 0.   0.   0.   0.5  0.  -0.5]\n",
      " [ 0.   0.   0.   0.   0.5  0. ]]\n"
     ]
    }
   ],
   "source": [
    "M,S,D,M_x,_,_,_,_ = ie_matrices(5)\n",
    "print('mass:')\n",
    "print(M)\n",
    "print('stiffness:')\n",
    "print(S)\n",
    "print('drift:')\n",
    "print(D)"
   ]
  },
  {
   "cell_type": "markdown",
   "metadata": {},
   "source": [
    "### Using numerical integration\n",
    "\n",
    "An alternative way, which also enables us to deal with inhomogeneous exterior domains is to use numerical integration (cf. [Section 7.4.2](dissertation_wess.pdf#subsection.7.4.2)). The quadrature rules form Theorems [7.14](dissertation_wess.pdf#thm.7.14) and [7.15](dissertation_wess.pdf#thm.7.15) are implemented as follows."
   ]
  },
  {
   "cell_type": "code",
   "execution_count": 4,
   "metadata": {},
   "outputs": [],
   "source": [
    "# %load -r 34-42 infinite_elements.py\n",
    "def mod_laguerre_quad(n):\n",
    "    from numpy.linalg import eig\n",
    "    mat=diag([(2*i+1) for i in range(n+1)])\n",
    "    mat[1:,:-1]-=diag(range(1,n+1))\n",
    "    mat[:-1,1:]-=diag(range(1,n+1))\n",
    "    points,v = eig(mat)\n",
    "    \n",
    "    l=gen_laguerre_func(n,0,points)[-1,:]\n",
    "    return array(points),array(points/l/l/(n+1)/(n+1))"
   ]
  },
  {
   "cell_type": "markdown",
   "metadata": {},
   "source": [
    "We use this quadrature to compute the mass matrix for a given coefficient function."
   ]
  },
  {
   "cell_type": "code",
   "execution_count": 5,
   "metadata": {},
   "outputs": [],
   "source": [
    "# %load -r 44- infinite_elements.py\n",
    "def ie_mass_quad(coef,N,M):\n",
    "    points,weights = mod_laguerre_quad(M)\n",
    "    vals = gen_laguerre_func(N,-1,points)\n",
    "    coefpoints = coef(points/2)\n",
    "    mat= zeros((N+1,N+1))\n",
    "    for i in range(N+1):\n",
    "        for j in range(N+1):\n",
    "            mat[i,j]=1/2*(vals[i,:]*coefpoints*vals[j,:])@weights\n",
    "    return mat\n"
   ]
  },
  {
   "cell_type": "code",
   "execution_count": 6,
   "metadata": {},
   "outputs": [
    {
     "name": "stdout",
     "output_type": "stream",
     "text": [
      "[[ 5.00000000e-01 -5.00000000e-01 -6.26554619e-15 -5.96096699e-15\n",
      "  -3.66766326e-15 -1.83483400e-15]\n",
      " [-5.00000000e-01  1.00000000e+00 -5.00000000e-01  8.64698002e-15\n",
      "   2.12120978e-15 -2.73666755e-15]\n",
      " [-6.26554619e-15 -5.00000000e-01  1.00000000e+00 -5.00000000e-01\n",
      "  -2.35779403e-16  2.88535802e-15]\n",
      " [-5.96096699e-15  8.64698002e-15 -5.00000000e-01  1.00000000e+00\n",
      "  -5.00000000e-01  1.39070782e-15]\n",
      " [-3.66766326e-15  2.12120978e-15 -2.35779403e-16 -5.00000000e-01\n",
      "   1.00000000e+00 -5.00000000e-01]\n",
      " [-1.83483400e-15 -2.73666755e-15  2.88535802e-15  1.39070782e-15\n",
      "  -5.00000000e-01  1.00000000e+00]]\n"
     ]
    }
   ],
   "source": [
    "print(ie_mass_quad(lambda x: ones(shape(x)),5,10))"
   ]
  },
  {
   "cell_type": "code",
   "execution_count": 7,
   "metadata": {},
   "outputs": [
    {
     "name": "stdout",
     "output_type": "stream",
     "text": [
      "[[ 2.50000000e-01 -5.00000000e-01  2.50000000e-01 -4.31004591e-15\n",
      "  -1.05973753e-15  1.36746641e-15]\n",
      " [-5.00000000e-01  1.50000000e+00 -1.50000000e+00  5.00000000e-01\n",
      "   2.30178975e-15 -5.68647459e-15]\n",
      " [ 2.50000000e-01 -1.50000000e+00  3.00000000e+00 -2.50000000e+00\n",
      "   7.50000000e-01  5.13833564e-15]\n",
      " [-4.32393703e-15  5.00000000e-01 -2.50000000e+00  4.50000000e+00\n",
      "  -3.50000000e+00  1.00000000e+00]\n",
      " [-1.05626808e-15  2.31566753e-15  7.50000000e-01 -3.50000000e+00\n",
      "   6.00000000e+00 -4.50000000e+00]\n",
      " [ 1.37429688e-15 -5.68647459e-15  5.13833564e-15  1.00000000e+00\n",
      "  -4.50000000e+00  7.50000000e+00]]\n",
      "[[ 0.25 -0.5   0.25  0.    0.    0.  ]\n",
      " [-0.5   1.5  -1.5   0.5   0.    0.  ]\n",
      " [ 0.25 -1.5   3.   -2.5   0.75  0.  ]\n",
      " [ 0.    0.5  -2.5   4.5  -3.5   1.  ]\n",
      " [ 0.    0.    0.75 -3.5   6.   -4.5 ]\n",
      " [ 0.    0.    0.    1.   -4.5   7.5 ]]\n"
     ]
    }
   ],
   "source": [
    "print(ie_mass_quad(lambda x: x,5,10))\n",
    "print(M_x)"
   ]
  },
  {
   "cell_type": "code",
   "execution_count": null,
   "metadata": {},
   "outputs": [],
   "source": []
  }
 ],
 "metadata": {
  "kernelspec": {
   "display_name": "Python 3 (ipykernel)",
   "language": "python",
   "name": "python3"
  },
  "language_info": {
   "codemirror_mode": {
    "name": "ipython",
    "version": 3
   },
   "file_extension": ".py",
   "mimetype": "text/x-python",
   "name": "python",
   "nbconvert_exporter": "python",
   "pygments_lexer": "ipython3",
   "version": "3.10.12"
  }
 },
 "nbformat": 4,
 "nbformat_minor": 4
}
