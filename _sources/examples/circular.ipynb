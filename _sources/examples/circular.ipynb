{
 "cells": [
  {
   "cell_type": "markdown",
   "metadata": {},
   "source": [
    "[<- back to main page](implementation.ipynb)\n",
    "\n",
    "# Example 1: Circular scalings in 2d\n",
    "\n",
    "As our first example we consider a two-dimensional example, namely $\\Omega:=\\mathbb R^2\\setminus B_{R}(\\mathbf x_0)$, $\\Gamma:=\\partial B_1(0)$, for some center $\\mathbf x_0\\in B_1(0)$ and radius $R$ such that $R<1-\\|\\mathbf x_0\\|$, and polar coordinates (cf. [Remark 3.3](dissertation_wess.pdf#thm.3.3))\n",
    "\\begin{align}\\xi(\\mathbf x)&:=\\|\\mathbf x\\|-1,&\n",
    "\\hat x(\\mathbf x)&:=\\frac{\\mathbf x}{\\|\\mathbf x\\|}.\\end{align}\n",
    "\n",
    "We create the according mesh and set some parameters."
   ]
  },
  {
   "cell_type": "code",
   "execution_count": 1,
   "metadata": {},
   "outputs": [
    {
     "data": {
      "application/vnd.jupyter.widget-view+json": {
       "model_id": "595a5c29cb13467789b1b01abaad8236",
       "version_major": 2,
       "version_minor": 0
      },
      "text/plain": [
       "NGSWebGuiWidget(value={'ngsolve_version': '6.2.2008', 'mesh_dim': 2, 'order2d': 2, 'order3d': 2, 'draw_vol': N…"
      ]
     },
     "metadata": {},
     "output_type": "display_data"
    },
    {
     "data": {
      "text/plain": []
     },
     "execution_count": 1,
     "metadata": {},
     "output_type": "execute_result"
    }
   ],
   "source": [
    "from ngsolve import *\n",
    "from netgen.geom2d import *\n",
    "from nonlin_arnoldis import *\n",
    "from ngsolve.webgui import Draw\n",
    "from numpy import array,sqrt,loadtxt\n",
    "from matplotlib.pyplot import plot,show,xlim,ylim,legend\n",
    "\n",
    "\n",
    "N = 25         #infinite elements\n",
    "maxh = 0.1     #mesh-size\n",
    "sigma = 0.3+0.5j   #complex scaling paramter\n",
    "order = 5      #fem order\n",
    "shift = 5-0.5j      #shift for Arnoldi algorithm\n",
    "center = (0.2,0)    #center of inner circle\n",
    "R = 0.5            #radius of inner circle\n",
    "\n",
    "#create geometry\n",
    "geo = SplineGeometry()\n",
    "geo.AddCircle((0,0),1,leftdomain=1,rightdomain=0,bc='Gamma')\n",
    "geo.AddCircle(center,R,leftdomain=0,rightdomain=1,bc='inner')\n",
    "\n",
    "\n",
    "#create mesh\n",
    "mesh = Mesh(geo.GenerateMesh(maxh=maxh))\n",
    "mesh.Curve(2*order)\n",
    "Draw(mesh)"
   ]
  },
  {
   "cell_type": "markdown",
   "metadata": {},
   "source": [
    "The weak formulation after a re-scaling of the solution and testfunction in the exterior is given by [(7.11)](dissertation_wess.pdf#equation.7.2.11).\n",
    "\n",
    "For this first simple example we choose a frequency independent scaling\n",
    "$$\\sigma(\\omega):=\\sigma_0\\in\\mathbb C.$$\n",
    "\n",
    "We start by creating the large finite element space for implementing our [tensor-product method](tp_disc.ipynb)."
   ]
  },
  {
   "cell_type": "code",
   "execution_count": 2,
   "metadata": {},
   "outputs": [],
   "source": [
    "Gamma = mesh.Boundaries('Gamma')\n",
    "\n",
    "fes_int = H1(mesh,order=order,complex=True)\n",
    "fes_surf = H1(mesh,order=order,complex=True,definedon=Gamma)\n",
    "\n",
    "fes = ProductSpace(fes_int,*( N*[fes_surf]) )"
   ]
  },
  {
   "cell_type": "markdown",
   "metadata": {},
   "source": [
    "We import the necessary [infinte element matrices](infinite_elements.ipynb) and prepare the radial matrices:"
   ]
  },
  {
   "cell_type": "code",
   "execution_count": 3,
   "metadata": {},
   "outputs": [],
   "source": [
    "from infinite_elements import *\n",
    "\n",
    "ie_mass,ie_laplace,__,ie_mass_x,ie_mass_xx,ie_laplace_x,ie_laplace_xx,_ = ie_matrices(N)\n",
    "\n",
    "S_ie_1 = 1/sigma*ie_laplace+2*ie_laplace_x+sigma*ie_laplace_xx-sigma/4*ie_mass\n",
    "S_ie_1[0,0]-=1/2\n",
    "\n",
    "S_ie_2 = sigma*ie_mass\n",
    "\n",
    "M_ie = sigma * (ie_mass+2*sigma*ie_mass_x+sigma**2*ie_mass_xx)"
   ]
  },
  {
   "cell_type": "markdown",
   "metadata": {},
   "source": [
    "Now we can assemble our bilinear forms."
   ]
  },
  {
   "cell_type": "code",
   "execution_count": 4,
   "metadata": {},
   "outputs": [],
   "source": [
    "ds_g = ds(definedon=Gamma)\n",
    "p,q = fes.TnT()\n",
    "p_int,q_int = p[0],q[0]\n",
    "S = BilinearForm(\n",
    "    grad(p_int)*grad(q_int)*dx\n",
    "    +sum(S_ie_1[i,j]*p[j]*q[i]*ds_g\n",
    "       for i in range(N+1) for j in range(N+1) if abs(S_ie_1[i,j])>0)\n",
    "    +sum(S_ie_2[i,j]*p[j].Trace().Deriv()*q[i].Trace().Deriv()*ds_g\n",
    "       for i in range(N+1) for j in range(N+1) if abs(S_ie_2[i,j])>0)   \n",
    "    ,symmetric=True).Assemble()\n",
    "\n",
    "M = BilinearForm(\n",
    "    -p_int*q_int*dx\n",
    "    -sum(M_ie[i,j]*p[j]*q[i]*ds_g\n",
    "       for i in range(N+1) for j in range(N+1) if abs(M_ie[i,j])>0)\n",
    "    ,symmetric=True).Assemble()\n"
   ]
  },
  {
   "cell_type": "markdown",
   "metadata": {},
   "source": [
    "Finally, we solve the resulting eigenvalue problem."
   ]
  },
  {
   "cell_type": "code",
   "execution_count": 5,
   "metadata": {},
   "outputs": [
    {
     "name": "stdout",
     "output_type": "stream",
     "text": [
      "initialized PolyArnoldi for EVP of order 1 with 19990 dofs\n",
      "called CalcInverse\n",
      "inverting P(shift)\n",
      "inverted in 0.5853931389974605 seconds\n",
      "building Krylow space of dimension 200\n",
      "starting iteration\n",
      "Krylowspace built in 6.740196474002005 seconds\n",
      "called SolveHessenberg\n",
      "solved Hessenberg EVP in 0.328324636000616 seconds\n",
      "calculating 80 big vectors\n"
     ]
    },
    {
     "data": {
      "application/vnd.jupyter.widget-view+json": {
       "model_id": "7ef27e83ebe644d1bae8dca2a3fd9d64",
       "version_major": 2,
       "version_minor": 0
      },
      "text/plain": [
       "NGSWebGuiWidget(value={'ngsolve_version': '6.2.2008', 'mesh_dim': 2, 'order2d': 2, 'order3d': 2, 'draw_vol': F…"
      ]
     },
     "metadata": {},
     "output_type": "display_data"
    },
    {
     "data": {
      "text/plain": []
     },
     "execution_count": 5,
     "metadata": {},
     "output_type": "execute_result"
    },
    {
     "data": {
      "image/png": "[encoded data removed]",
      "text/plain": [
       "<Figure size 432x288 with 1 Axes>"
      ]
     },
     "metadata": {
      "needs_background": "light"
     },
     "output_type": "display_data"
    }
   ],
   "source": [
    "gf = GridFunction(fes,multidim=80)\n",
    "\n",
    "#lam = sqrt(array(ArnoldiSolver(S.mat,M.mat,freedofs=fes.FreeDofs(),vecs=gf.vecs,shift=shift**2)))\n",
    "lam = sqrt(array(PolyArnoldiSolver([S.mat,M.mat],shift**2,200,nevals=80,vecs=gf.vecs,inversetype='sparsecholesky',freedofs=fes.FreeDofs())))\n",
    "\n",
    "\n",
    "plot(lam.real,lam.imag,'x',label='resonances')\n",
    "plot([0,5*(1/sigma).real],[0,5*(1/sigma).imag],label='essential spectrum')\n",
    "\n",
    "#load reference resonances from file\n",
    "loaded=loadtxt('dhankel_1_zeros.out')\n",
    "ref=(loaded[:,0]+1j*loaded[:,1])/R\n",
    "\n",
    "plot(ref.real,ref.imag,'.k',label='reference')\n",
    "\n",
    "xlim((0,10))\n",
    "ylim((-5,0))\n",
    "legend()\n",
    "Draw(gf.components[0])"
   ]
  },
  {
   "cell_type": "markdown",
   "metadata": {},
   "source": [
    "[<- back to main page](implementation.ipynb)"
   ]
  },
  {
   "cell_type": "code",
   "execution_count": null,
   "metadata": {},
   "outputs": [],
   "source": []
  }
 ],
 "metadata": {
  "kernelspec": {
   "display_name": "Python 3 (ipykernel)",
   "language": "python",
   "name": "python3"
  },
  "language_info": {
   "codemirror_mode": {
    "name": "ipython",
    "version": 3
   },
   "file_extension": ".py",
   "mimetype": "text/x-python",
   "name": "python",
   "nbconvert_exporter": "python",
   "pygments_lexer": "ipython3",
   "version": "3.10.12"
  }
 },
 "nbformat": 4,
 "nbformat_minor": 4
}
