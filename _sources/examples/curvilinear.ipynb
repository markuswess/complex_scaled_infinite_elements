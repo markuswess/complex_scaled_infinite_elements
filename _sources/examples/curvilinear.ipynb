{
 "cells": [
  {
   "cell_type": "markdown",
   "metadata": {},
   "source": [
    "[<- back to main page](implementation.ipynb)\n",
    "\n",
    "# Example 3: Curvilinear scalings\n",
    "\n",
    "Similar to [before](circular.ipynb) we consider a two-dimensional example, namely $\\Omega:=\\mathbb R^2\\setminus B_{R}(\\mathbf x_0)$, some center $\\mathbf x_0\\in B_1(0)$ and radius $R$.\n",
    "This time we allow an arbitrary boundary $\\Gamma$ which is convex such that $B_R(\\mathbf x_0)$ is contained in the interior of $\\Gamma$.\n",
    "\n",
    "We choose curvilinear coordinates given by\n",
    "\n",
    "$$\\mathbf x(\\xi,\\hat x):=\\hat x+\\xi\\mathbf n(\\hat x)$$\n",
    "(cf. [Section 7.1.3](dissertation_wess.pdf#subsection.7.1.3)).\n",
    "\n",
    "Again, we create the according mesh and set some parameters."
   ]
  },
  {
   "cell_type": "code",
   "execution_count": 1,
   "metadata": {},
   "outputs": [
    {
     "data": {
      "application/vnd.jupyter.widget-view+json": {
       "model_id": "f120c090994b4a31b2ae6fbc59235bb2",
       "version_major": 2,
       "version_minor": 0
      },
      "text/plain": [
       "NGSWebGuiWidget(value={'ngsolve_version': '6.2.2008', 'mesh_dim': 2, 'order2d': 2, 'order3d': 2, 'draw_vol': N…"
      ]
     },
     "metadata": {},
     "output_type": "display_data"
    },
    {
     "data": {
      "text/plain": []
     },
     "execution_count": 1,
     "metadata": {},
     "output_type": "execute_result"
    }
   ],
   "source": [
    "from ngsolve import *\n",
    "from netgen.geom2d import *\n",
    "from nonlin_arnoldis import *\n",
    "from ngsolve.webgui import Draw\n",
    "from numpy import array,sqrt,loadtxt\n",
    "from matplotlib.pyplot import plot,show,xlim,ylim,legend\n",
    "\n",
    "N = 25         #infinite elements\n",
    "maxh = 0.1     #mesh-size\n",
    "sigma = 0.1+0.3j   #complex scaling paramter\n",
    "order = 5      #fem order\n",
    "shift = 4-0.5j      #shift for Arnoldi algorithm\n",
    "center = (0.2,0)    #center of inner circle\n",
    "R = 0.5            #radius of inner circle\n",
    "\n",
    "#create geometry\n",
    "def MakeEggGeometry(Rx,Ryt,Ryb):\n",
    "    geo = SplineGeometry()\n",
    "    pts = [(x,y) for y in [-Ryb,0,Ryt] for x in [-Rx,0,Rx]]\n",
    "    for pt in pts:\n",
    "        geo.AppendPoint(*pt)\n",
    "\n",
    "    inds = [(1,2,5),(5,8,7),(7,6,3),(3,0,1)]\n",
    "    for i in inds:\n",
    "        geo.Append(['spline3',*i],bc='outer',leftdomain=1,rightdomain=0)\n",
    "    geo.AddCircle(center,R,leftdomain=0,rightdomain=1,bc='inner')\n",
    "    return geo\n",
    "\n",
    "geo = MakeEggGeometry(0.8,0.7,1.2)\n",
    "\n",
    "\n",
    "#create mesh\n",
    "mesh = Mesh(geo.GenerateMesh(maxh=maxh))\n",
    "mesh.Curve(2*order)\n",
    "Draw(mesh)"
   ]
  },
  {
   "cell_type": "markdown",
   "metadata": {},
   "source": [
    "The weak formulation after a re-scaling of the solution and testfunction in the exterior is given by [(7.12)](dissertation_wess.pdf#equation.7.2.12).\n",
    "\n",
    "Contrary to [polar coordinates](circular.ipynb) and [star-shaped coordinates](star_shaped.ipynb)this time we also need the normal vecter $\\mathbf n(\\hat x)$ and the curvature $\\kappa(\\hat x)$ and the tangential vector $\\mathbf t(\\hat x)$."
   ]
  },
  {
   "cell_type": "code",
   "execution_count": 2,
   "metadata": {},
   "outputs": [],
   "source": [
    "n = specialcf.normal(2)\n",
    "kappa = Trace(grad(n))\n",
    "t = CoefficientFunction((n[1],-n[0]))"
   ]
  },
  {
   "cell_type": "markdown",
   "metadata": {},
   "source": [
    "For this first simple example we again choose a frequency independent scaling\n",
    "$$\\sigma(\\omega):=\\sigma_0\\in\\mathbb C,$$\n",
    "(cf. [(7.14a)](dissertation_wess.pdf#equation.7.3.14a)).\n",
    "\n",
    "We start by creating the large finite element space for implementing our [tensor-product method](tp_disc.ipynb). Contrary to before we need an additional surface space, since [(7.12)](dissertation_wess.pdf#equation.7.2.12) contains an additional variable to be able to seperate the bilinear forms into a radial and a surface part (cf. [Remark 7.1](dissertation_wess.pdf#thm.7.1) and [Section 7.2](dissertation_wess.pdf#section.7.2))."
   ]
  },
  {
   "cell_type": "code",
   "execution_count": 3,
   "metadata": {},
   "outputs": [],
   "source": [
    "Gamma = mesh.Boundaries('outer')\n",
    "\n",
    "fes_int = H1(mesh,order=order,complex=True)\n",
    "fes_surf = H1(mesh,order=order,complex=True,definedon=Gamma)\n",
    "fes_surf_l2 = SurfaceL2(mesh,order=order-1,complex=True,definedon=Gamma)\n",
    "\n",
    "fes_p = ProductSpace(fes_int,*( N*[fes_surf]) )\n",
    "fes_u = ProductSpace(*( (N+1)*[fes_surf_l2]))\n",
    "\n",
    "fes = ProductSpace(fes_p,fes_u)"
   ]
  },
  {
   "cell_type": "markdown",
   "metadata": {},
   "source": [
    "We import the necessary [infinte element matrices](infinite_elements.ipynb) and prepare the radial matrices:"
   ]
  },
  {
   "cell_type": "code",
   "execution_count": 4,
   "metadata": {},
   "outputs": [],
   "source": [
    "from infinite_elements import *\n",
    "\n",
    "ie_mass,ie_laplace,_,ie_mass_x,_,ie_laplace_x,_,_ = ie_matrices(N)"
   ]
  },
  {
   "cell_type": "markdown",
   "metadata": {},
   "source": [
    "Now we can assemble our bilinear forms."
   ]
  },
  {
   "cell_type": "code",
   "execution_count": 5,
   "metadata": {},
   "outputs": [],
   "source": [
    "ds_g = ds(definedon=Gamma)\n",
    "(p,u),(q,v) = fes.TnT()\n",
    "p_int,q_int = p[0],q[0]\n",
    "S = BilinearForm(\n",
    "    grad(p_int)*grad(q_int)*dx\n",
    "    \n",
    "    +sum(1/sigma*ie_laplace[i,j]*p[j]*q[i]*ds_g\n",
    "       for i in range(N+1) for j in range(N+1) if abs(ie_laplace[i,j])>0)\n",
    "    \n",
    "    +sum(ie_laplace_x[i,j]*kappa*p[i]*q[j]*ds_g\n",
    "       for i in range(N+1) for j in range(N+1) if abs(ie_laplace_x[i,j])>0)\n",
    "    \n",
    "    +sum(sigma*ie_mass[i,j]*(u[i].Trace()*(t*q[j].Trace().Deriv()) + (t*p[i].Trace().Deriv())*v[j].Trace())*ds_g\n",
    "       for i in range(N+1) for j in range(N+1) if abs(ie_mass[i,j])>0)\n",
    "    \n",
    "    -sum(sigma*ie_mass[i,j]*u[i].Trace()*v[j].Trace()*ds_g\n",
    "       for i in range(N+1) for j in range(N+1) if abs(ie_mass[i,j])>0)\n",
    "    \n",
    "    -sum(sigma**2*ie_mass_x[i,j]*kappa*u[i].Trace()*v[j].Trace()*ds_g\n",
    "       for i in range(N+1) for j in range(N+1) if abs(ie_mass_x[i,j])>0)\n",
    "    \n",
    "    ,symmetric=True).Assemble()\n",
    "\n",
    "M = BilinearForm(\n",
    "    -p_int*q_int*dx\n",
    "    -sum(sigma*ie_mass[i,j]*p[j]*q[i]*ds_g\n",
    "       for i in range(N+1) for j in range(N+1) if abs(ie_mass[i,j])>0)\n",
    "    \n",
    "    -sum(sigma**2*ie_mass_x[i,j]*kappa*p[j]*q[i]*ds_g\n",
    "       for i in range(N+1) for j in range(N+1) if abs(ie_mass_x[i,j])>0)\n",
    "    \n",
    "    ,symmetric=True).Assemble()\n"
   ]
  },
  {
   "cell_type": "markdown",
   "metadata": {},
   "source": [
    "Finally, we solve the resulting eigenvalue problem."
   ]
  },
  {
   "cell_type": "code",
   "execution_count": 6,
   "metadata": {},
   "outputs": [
    {
     "name": "stdout",
     "output_type": "stream",
     "text": [
      "initialized PolyArnoldi for EVP of order 1 with 22632 dofs\n",
      "called CalcInverse\n",
      "inverting P(shift)\n",
      "inverted in 2.2571478429999843 seconds\n",
      "building Krylow space of dimension 200\n",
      "starting iteration\n",
      "Krylowspace built in 10.676209687000664 seconds\n",
      "called SolveHessenberg\n",
      "solved Hessenberg EVP in 0.477220312001009 seconds\n",
      "calculating 100 big vectors\n"
     ]
    },
    {
     "data": {
      "application/vnd.jupyter.widget-view+json": {
       "model_id": "9a0ce22da00e4d41a34af44c5eded9e0",
       "version_major": 2,
       "version_minor": 0
      },
      "text/plain": [
       "NGSWebGuiWidget(value={'ngsolve_version': '6.2.2008', 'mesh_dim': 2, 'order2d': 2, 'order3d': 2, 'draw_vol': F…"
      ]
     },
     "metadata": {},
     "output_type": "display_data"
    },
    {
     "data": {
      "text/plain": []
     },
     "execution_count": 6,
     "metadata": {},
     "output_type": "execute_result"
    },
    {
     "data": {
      "image/png": "[encoded data removed]",
      "text/plain": [
       "<Figure size 432x288 with 1 Axes>"
      ]
     },
     "metadata": {
      "needs_background": "light"
     },
     "output_type": "display_data"
    }
   ],
   "source": [
    "gf = GridFunction(fes,multidim=100)\n",
    "\n",
    "#lam = sqrt(array(ArnoldiSolver(S.mat,M.mat,freedofs=fes.FreeDofs(),vecs=gf.vecs,shift=shift**2)))\n",
    "lam = sqrt(array(PolyArnoldiSolver([S.mat,M.mat],shift**2,200,nevals=80,vecs=gf.vecs,inversetype='sparsecholesky',freedofs=fes.FreeDofs())))\n",
    "\n",
    "plot(lam.real,lam.imag,'x',label='resonances')\n",
    "plot([0,5*(1/sigma).real],[0,5*(1/sigma).imag],label='essential spectrum')\n",
    "\n",
    "#load reference resonances from file\n",
    "loaded=loadtxt('dhankel_1_zeros.out')\n",
    "ref=(loaded[:,0]+1j*loaded[:,1])/R\n",
    "\n",
    "plot(ref.real,ref.imag,'.k',label='reference')\n",
    "\n",
    "xlim((0,10))\n",
    "ylim((-5,0))\n",
    "legend()\n",
    "Draw(gf.components[0].components[0])"
   ]
  },
  {
   "cell_type": "markdown",
   "metadata": {},
   "source": [
    "[<- back to main page](implementation.ipynb)"
   ]
  }
 ],
 "metadata": {
  "kernelspec": {
   "display_name": "Python 3",
   "language": "python",
   "name": "python3"
  },
  "language_info": {
   "codemirror_mode": {
    "name": "ipython",
    "version": 3
   },
   "file_extension": ".py",
   "mimetype": "text/x-python",
   "name": "python",
   "nbconvert_exporter": "python",
   "pygments_lexer": "ipython3",
   "version": "3.8.2"
  }
 },
 "nbformat": 4,
 "nbformat_minor": 4
}
