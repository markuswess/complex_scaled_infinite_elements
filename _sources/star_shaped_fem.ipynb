{
 "cells": [
  {
   "cell_type": "markdown",
   "metadata": {},
   "source": [
    "# Example 5: Star-shaped scalings in 2d using radial FEM\n",
    "\n",
    "Similar to [before](star-shaped.ipynb) we consider a two-dimensional example, namely $\\Omega:=\\mathbb R^2\\setminus B_{R}(\\mathbf x_0)$, some center $\\mathbf x_0\\in B_1(0)$ and radius $R$.\n",
    "This time we allow an arbitrary boundary $\\Gamma$ which is star-shaped with respect to the origin such that $B_R(\\mathbf x_0)$ is contained in the interior of $\\Gamma$.\n",
    "\n",
    "We choose star-shaped coordinates given by\n",
    "\n",
    "$$\\mathbf x(\\xi,\\hat x):=(1+\\xi)\\hat x,$$\n",
    "(cf. [Section 7.1.2](dissertation_wess.pdf#subsection.7.1.2)).\n",
    "\n",
    "Again, we create the according mesh and set some parameters.\n",
    "\n",
    "Moreover, this time we use a radial discretization by one-dimensional finite elements. The matrices are generated using a 1d mesh."
   ]
  },
  {
   "cell_type": "code",
   "execution_count": 7,
   "metadata": {},
   "outputs": [
    {
     "data": {
      "application/vnd.jupyter.widget-view+json": {
       "model_id": "8ef27dc95424478a994a7ae4bccdac85",
       "version_major": 2,
       "version_minor": 0
      },
      "text/plain": [
       "WebGuiWidget(layout=Layout(height='50vh', width='100%'), value={'gui_settings': {}, 'ngsolve_version': '6.2.25…"
      ]
     },
     "metadata": {},
     "output_type": "display_data"
    },
    {
     "data": {
      "text/plain": [
       "BaseWebGuiScene"
      ]
     },
     "execution_count": 7,
     "metadata": {},
     "output_type": "execute_result"
    }
   ],
   "source": [
    "from ngsolve import *\n",
    "from netgen.geom2d import *\n",
    "from nonlin_arnoldis import *\n",
    "from ngsolve.webgui import Draw\n",
    "from numpy import array,sqrt,loadtxt\n",
    "from matplotlib.pyplot import plot,show,xlim,ylim,legend\n",
    "\n",
    "maxh = 0.1     #mesh-size\n",
    "sigma = 1+2j   #complex scaling paramter\n",
    "order = 5      #fem order\n",
    "shift = 4-0.5j      #shift for Arnoldi algorithm\n",
    "center = (0.2,0)    #center of inner circle\n",
    "R = 0.5            #radius of inner circle\n",
    "\n",
    "#create geometry\n",
    "geo = SplineGeometry()\n",
    "geo.AddRectangle((-0.8,-0.7),(1,1),leftdomain=1,rightdomain=0,bc='Gamma')\n",
    "geo.AddCircle(center,R,leftdomain=0,rightdomain=1,bc='inner')\n",
    "#geo.AddCircle((0,0),1,leftdomain=1,rightdomain=0,bc='Gamma')\n",
    "#geo.AddCircle(center,R,leftdomain=0,rightdomain=1,bc='inner')\n",
    "\n",
    "#create mesh\n",
    "mesh = Mesh(geo.GenerateMesh(maxh=maxh))\n",
    "mesh.Curve(2*order)\n",
    "Draw(mesh)"
   ]
  },
  {
   "cell_type": "markdown",
   "metadata": {},
   "source": [
    "The weak formulation after a re-scaling of the solution and testfunction in the exterior is given by [(7.10)](dissertation_wess.pdf#equation.7.2.10).\n",
    "\n",
    "Contrary to [polar coordinates](circular.ipynb) this time we also need the normal vecter $\\mathbf n(\\hat x)$ and the vector $\\mathbf v(\\hat x)=\\hat x$."
   ]
  },
  {
   "cell_type": "code",
   "execution_count": 8,
   "metadata": {},
   "outputs": [],
   "source": [
    "n = specialcf.normal(2)\n",
    "v = CoefficientFunction((x,y))"
   ]
  },
  {
   "cell_type": "markdown",
   "metadata": {},
   "source": [
    "For this first simple example we again choose a frequency independent scaling\n",
    "$$\\sigma(\\omega):=\\sigma_0\\in\\mathbb C.$$\n",
    "\n",
    "We start by creating the radial matrices using a 1d finite element space, where for the 1d matrices we use a one dimensional geometry defined in [fem1d.py](fem1d.py)."
   ]
  },
  {
   "cell_type": "code",
   "execution_count": 9,
   "metadata": {},
   "outputs": [
    {
     "name": "stderr",
     "output_type": "stream",
     "text": [
      "used dof inconsistency\n",
      "(silence this warning by setting BilinearForm(...check_unused=False) )\n"
     ]
    }
   ],
   "source": [
    "from fem1d import *\n",
    "from numpy import array\n",
    "\n",
    "mesh1d = Mesh(geo1d(0,1).GenerateMesh(maxh=0.1))\n",
    "fes1d = H1(mesh1d,order=order,complex=True)\n",
    "\n",
    "u,u_ = fes1d.TnT()\n",
    "\n",
    "fem1d_mass_surf = array(BilinearForm(u*u_*ds('left')).Assemble().mat.ToDense())\n",
    "\n",
    "fem1d_mass = array(BilinearForm(u*u_*dx).Assemble().mat.ToDense())\n",
    "fem1d_mass_x = array(BilinearForm(x*u*u_*dx).Assemble().mat.ToDense())\n",
    "fem1d_mass_xx = array(BilinearForm(x*x*u*u_*dx).Assemble().mat.ToDense())\n",
    "\n",
    "fem1d_drift = array(BilinearForm(grad(u)*u_*dx).Assemble().mat.ToDense())\n",
    "fem1d_drift_x = array(BilinearForm(x*grad(u)*u_*dx).Assemble().mat.ToDense())\n",
    "fem1d_drift_xx = array(BilinearForm(x*x*grad(u)*u_*dx).Assemble().mat.ToDense())\n",
    "\n",
    "fem1d_laplace = array(BilinearForm(grad(u)*grad(u_)*dx).Assemble().mat.ToDense())\n",
    "fem1d_laplace_x = array(BilinearForm(x*grad(u)*grad(u_)*dx).Assemble().mat.ToDense())\n",
    "fem1d_laplace_xx = array(BilinearForm(x*x*grad(u)*grad(u_)*dx).Assemble().mat.ToDense())\n",
    "\n",
    "\n",
    "S_rad_1 = 1/sigma*fem1d_laplace+2*fem1d_laplace_x+sigma*fem1d_laplace_xx-sigma/4*fem1d_mass-1/2*fem1d_mass_surf\n",
    "\n",
    "S_rad_2 = sigma*fem1d_mass\n",
    "\n",
    "D_rad = fem1d_drift+sigma*fem1d_drift_x\n",
    "\n",
    "M_rad = sigma * (fem1d_mass+2*sigma*fem1d_mass_x+sigma**2*fem1d_mass_xx)"
   ]
  },
  {
   "cell_type": "markdown",
   "metadata": {},
   "source": [
    "next we generate the large finite element space for implementing our [tensor-product method](tp_disc.ipynb)."
   ]
  },
  {
   "cell_type": "code",
   "execution_count": 10,
   "metadata": {},
   "outputs": [],
   "source": [
    "N = fes1d.ndof\n",
    "\n",
    "Gamma = mesh.Boundaries('Gamma')\n",
    "\n",
    "fes_int = H1(mesh,order=order,complex=True)\n",
    "fes_surf = H1(mesh,order=order,complex=True,definedon=Gamma)\n",
    "\n",
    "fes = ProductSpace(fes_int,*( (N-1)*[fes_surf]) )"
   ]
  },
  {
   "cell_type": "markdown",
   "metadata": {},
   "source": [
    "Now we can assemble our bilinear forms."
   ]
  },
  {
   "cell_type": "code",
   "execution_count": 19,
   "metadata": {},
   "outputs": [],
   "source": [
    "\n",
    "\n",
    "ds_g = ds(definedon=Gamma)\n",
    "p,q = fes.TnT()\n",
    "p_int,q_int = p[0],q[0]\n",
    "S = BilinearForm(\n",
    "    grad(p_int)*grad(q_int)*dx\n",
    "    +sum(S_rad_1[i,j]*1/(n*v)*p[j]*q[i]*ds_g\n",
    "       for i in range(N) for j in range(N) if abs(S_rad_1[i,j])>0)\n",
    "    -sum(D_rad[i,j]*1/(n*v)*(v*p[i].Trace().Deriv())*q[j]*ds_g\n",
    "       for i in range(N) for j in range(N) if abs(D_rad[i,j])>0)\n",
    "    -sum(D_rad[i,j]*1/(n*v)*p[j]*(v*q[i].Trace().Deriv())*ds_g\n",
    "       for i in range(N) for j in range(N) if abs(D_rad[i,j])>0)\n",
    "    +sum(S_rad_2[i,j]*(v*v)/(n*v)*p[j].Trace().Deriv()*q[i].Trace().Deriv()*ds_g\n",
    "       for i in range(N) for j in range(N) if abs(S_rad_2[i,j])>0)\n",
    "    -sum(S_rad_2[i,j]*1/(2*n*v)*((p[j].Trace().Deriv()*v)*q[i]+p[j]*(v*q[i].Trace().Deriv()))*ds_g\n",
    "       for i in range(N) for j in range(N) if abs(S_rad_2[i,j])>0)\n",
    "    ,symmetric=True).Assemble()\n",
    "\n",
    "M = BilinearForm(\n",
    "    p_int*q_int*dx\n",
    "    +sum(M_rad[i,j]*(n*v)*p[j]*q[i]*ds_g\n",
    "       for i in range(N) for j in range(N) if abs(M_rad[i,j])>0)\n",
    "    ,symmetric=True).Assemble()\n"
   ]
  },
  {
   "cell_type": "markdown",
   "metadata": {},
   "source": [
    "Finally, we solve the resulting eigenvalue problem."
   ]
  },
  {
   "cell_type": "code",
   "execution_count": 21,
   "metadata": {},
   "outputs": [
    {
     "data": {
      "image/png": "[encoded data removed]",
      "text/plain": [
       "<Figure size 432x288 with 1 Axes>"
      ]
     },
     "metadata": {
      "needs_background": "light"
     },
     "output_type": "display_data"
    }
   ],
   "source": [
    "gf = GridFunction(fes,multidim=80)\n",
    "\n",
    "lam = sqrt(array(ArnoldiSolver(S.mat,M.mat,freedofs=fes.FreeDofs(),vecs=list(gf.vecs),shift=shift**2)))\n",
    "#lam = sqrt(array(PolyArnoldiSolver([S.mat,M.mat],shift**2,200,nevals=80,vecs=gf.vecs,inversetype='sparsecholesky',freedofs=fes.FreeDofs())))\n",
    "\n",
    "plot(lam.real,lam.imag,'x',label='resonances')\n",
    "plot([0,5*(1/sigma).real],[0,5*(1/sigma).imag],label='essential spectrum')\n",
    "\n",
    "#load reference resonances from file\n",
    "loaded=loadtxt('dhankel_1_zeros.out')\n",
    "ref=(loaded[:,0]+1j*loaded[:,1])/R\n",
    "    \n",
    "plot(ref.real,ref.imag,'.k',label='reference')\n",
    "\n",
    "xlim((0,10))\n",
    "ylim((-5,0))\n",
    "legend()\n",
    "Draw(gf.components[0])"
   ]
  },
  {
   "cell_type": "code",
   "execution_count": null,
   "metadata": {},
   "outputs": [],
   "source": []
  }
 ],
 "metadata": {
  "kernelspec": {
   "display_name": "Python 3 (ipykernel)",
   "language": "python",
   "name": "python3"
  },
  "language_info": {
   "codemirror_mode": {
    "name": "ipython",
    "version": 3
   },
   "file_extension": ".py",
   "mimetype": "text/x-python",
   "name": "python",
   "nbconvert_exporter": "python",
   "pygments_lexer": "ipython3",
   "version": "3.10.12"
  }
 },
 "nbformat": 4,
 "nbformat_minor": 4
}
