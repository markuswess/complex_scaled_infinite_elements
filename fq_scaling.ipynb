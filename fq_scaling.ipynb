{
 "cells": [
  {
   "cell_type": "markdown",
   "metadata": {},
   "source": [
    "[<- back to main page](implementation.ipynb)\n",
    "\n",
    "# Frequency dependent scaling functions\n",
    "\n",
    "Using non-constant scaling functions $\\sigma(\\omega)$ (cf. [Section 7.3](dissertation_wess.pdf#section.7.3)) leads to non-linear (polynomial or rational) eigenvalue problems.\n",
    "These problems can be treated using the algorithms presented in [Chapter 8](dissertation_wess.pdf#chapter.8).\n",
    "\n",
    "We use an implementations of [Algorithm 4](/dissertation_wess.pdf#algorithm.4), namely the class `SaiALP`. "
   ]
  },
  {
   "cell_type": "code",
   "execution_count": 4,
   "metadata": {},
   "outputs": [
    {
     "name": "stdout",
     "output_type": "stream",
     "text": [
      "Help on class SaiALP in module nonlin_arnoldis:\n",
      "\n",
      "class SaiALP(builtins.object)\n",
      " |  SaiALP(Ms: list, Ph, Pt, Th, Tt, shift, freedofs=None)\n",
      " |  \n",
      " |  Methods defined here:\n",
      " |  \n",
      " |  CalcInverse(self, inversetype='sparsecholesky')\n",
      " |  \n",
      " |  CalcKrylow(self, krylowdim, reorthogonalize=False, startvector=None, smallstartvector=None)\n",
      " |  \n",
      " |  SolveHessenberg(self, vecs=None, nevals=None, nevecs=None, sort=True)\n",
      " |  \n",
      " |  __init__(self, Ms: list, Ph, Pt, Th, Tt, shift, freedofs=None)\n",
      " |      Initialize self.  See help(type(self)) for accurate signature.\n",
      " |  \n",
      " |  ----------------------------------------------------------------------\n",
      " |  Data descriptors defined here:\n",
      " |  \n",
      " |  __dict__\n",
      " |      dictionary for instance variables (if defined)\n",
      " |  \n",
      " |  __weakref__\n",
      " |      list of weak references to the object (if defined)\n",
      "\n",
      "None\n"
     ]
    }
   ],
   "source": [
    "from nonlin_arnoldis import *\n",
    "\n",
    "print(help(SaiALP))"
   ]
  },
  {
   "cell_type": "markdown",
   "metadata": {},
   "source": [
    "The input parameters are \n",
    "- the list of large matrices $\\mathbf M^0,\\ldots,\\mathbf M^n$,\n",
    "- the matrices $\\hat{\\mathbf P}$ and $\\tilde{\\mathbf P}$ from [(8.11)](dissertation_wess.pdf#equation.8.2.11),\n",
    "- the matrices $\\left(\\hat{\\mathbf t},\\hat{\\mathbf S}\\right)$ and $\\left(\\tilde{\\mathbf t},\\tilde{\\mathbf S}\\right)$ from [Definition 8.8](dissertation_wess.pdf#thm.8.8),\n",
    "- a complex shift, and\n",
    "- free dofs (optional).\n",
    "\n",
    "Therefore, the user has to supply only the large matrices and the linear representation by scalar multiples of the given problem.\n",
    "\n",
    "To solve the problem first the Krylow space has to be constructed using `CalcKrylow`, where the dimension of the space has to be given. Finally, The small problem is solved using `SolveHessenberg`.\n",
    "\n",
    "If the problem is polynomial, i.e. of the form\n",
    "$$\\sum_{i=0}^n \\omega^i \\mathbf M^i \\mathbf u=0,$$\n",
    "we also supply the function `PolyArnoldiSolver`."
   ]
  },
  {
   "cell_type": "code",
   "execution_count": 5,
   "metadata": {},
   "outputs": [
    {
     "name": "stdout",
     "output_type": "stream",
     "text": [
      "Help on function PolyArnoldiSolver in module nonlin_arnoldis:\n",
      "\n",
      "PolyArnoldiSolver(mats: list, shift: complex, krylowdim: int, **kwargs) -> list\n",
      "    Shift-and-invert Arnoldi eigenvalue solver\n",
      "    problem. Returns list of approximated eigenvalues\n",
      "    \n",
      "    keyword arguments:\n",
      "    \n",
      "    vecs: list of vectors for eigenvector output\n",
      "    \n",
      "    nevals: number of eigenvalues\n",
      "    \n",
      "    nevecs: number of eigenvectors\n",
      "    \n",
      "    inversetype: type of inverse for shift-and-invert\n",
      "    \n",
      "    tol: if tol is given, only eigenvalues and eigenvectors with residue < tol are returned\n",
      "    \n",
      "    times: bool, if true timings are printed\n",
      "\n",
      "None\n"
     ]
    }
   ],
   "source": [
    "print(help(PolyArnoldiSolver))"
   ]
  },
  {
   "cell_type": "markdown",
   "metadata": {},
   "source": [
    "Here, the linear representation is already supplied by the solver and merely the list of matrices, the dimension of the Krylow space, and the shift have to be given.\n",
    "\n",
    "[<- back to main page](implementation.ipynb)"
   ]
  },
  {
   "cell_type": "code",
   "execution_count": null,
   "metadata": {},
   "outputs": [],
   "source": []
  }
 ],
 "metadata": {
  "kernelspec": {
   "display_name": "Python 3 (ipykernel)",
   "language": "python",
   "name": "python3"
  },
  "language_info": {
   "codemirror_mode": {
    "name": "ipython",
    "version": 3
   },
   "file_extension": ".py",
   "mimetype": "text/x-python",
   "name": "python",
   "nbconvert_exporter": "python",
   "pygments_lexer": "ipython3",
   "version": "3.10.12"
  }
 },
 "nbformat": 4,
 "nbformat_minor": 4
}
