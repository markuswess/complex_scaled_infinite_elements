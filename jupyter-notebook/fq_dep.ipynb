{
 "cells": [
  {
   "cell_type": "markdown",
   "metadata": {},
   "source": [
    "[<- back to main page](implementation.ipynb)\n",
    "\n",
    "# Example 4: frequency dependent scaling\n",
    "\n",
    "Instead of choosing a constant scaling as in the previous examples, we choose the frequency dependency\n",
    "\n",
    "$$\\sigma(\\omega):=\\frac{\\frac{\\alpha}{\\omega}+\\beta}{\\gamma+\\omega\\delta},$$\n",
    "(cf. [(7.13)](dissertation_wess.pdf#equation.7.3.13)).\n",
    "\n",
    "Choosing this frequency-dependency leads to rational eigenvalue problems, which can be treated using the methods from [Chapter 8](dissertation_wess.pdf#chapter.8) (the implementation is described [here](fq_scaling.ipynb)).\n",
    "\n",
    "For this example we use again polar coordinates, i.e.,\n",
    "\\begin{align}\\xi(\\mathbf x)&:=\\|\\mathbf x\\|-1,&\n",
    "\\hat x(\\mathbf x)&:=\\frac{\\mathbf x}{\\|\\mathbf x\\|}\\end{align}\n",
    "(cf. [Remark 3.3](dissertation_wess.pdf#thm.3.3)).\n",
    "\n",
    "Similar to the previous examples we create a mesh, the necessary FE-spaces, assemble the matrices and solve the according eigenvalue problem. This time we have to use the algorithm for rational problems."
   ]
  },
  {
   "cell_type": "code",
   "execution_count": 1,
   "metadata": {},
   "outputs": [
    {
     "data": {
      "application/vnd.jupyter.widget-view+json": {
       "model_id": "147a8c65d75b4e0eba962b39fab7127d",
       "version_major": 2,
       "version_minor": 0
      },
      "text/plain": [
       "NGSWebGuiWidget(value={'ngsolve_version': '6.2.2008', 'mesh_dim': 2, 'order2d': 2, 'order3d': 2, 'draw_vol': N…"
      ]
     },
     "metadata": {},
     "output_type": "display_data"
    }
   ],
   "source": [
    "from ngsolve import *\n",
    "from netgen.geom2d import *\n",
    "from nonlin_arnoldis import *\n",
    "from ngsolve.webgui import Draw\n",
    "from numpy import array,sqrt,loadtxt\n",
    "from matplotlib.pyplot import plot,show,xlim,ylim,legend\n",
    "\n",
    "\n",
    "N = 10        #infinite elements\n",
    "maxh = 0.1     #mesh-size\n",
    "order = 3      #fem order\n",
    "shift = 4-0.5j      #shift for Arnoldi algorithm\n",
    "center = (0.2,0)    #center of inner circle\n",
    "R = 0.5            #radius of inner circle\n",
    "\n",
    "#create geometry\n",
    "geo = SplineGeometry()\n",
    "geo.AddCircle((0,0),1,leftdomain=1,rightdomain=0,bc='Gamma')\n",
    "geo.AddCircle(center,R,leftdomain=0,rightdomain=1,bc='inner')\n",
    "\n",
    "\n",
    "#create mesh\n",
    "mesh = Mesh(geo.GenerateMesh(maxh=maxh))\n",
    "mesh.Curve(2*order)\n",
    "Draw(mesh)\n",
    "Gamma = mesh.Boundaries('Gamma')"
   ]
  },
  {
   "cell_type": "code",
   "execution_count": 2,
   "metadata": {},
   "outputs": [],
   "source": [
    "Gamma = mesh.Boundaries('Gamma')\n",
    "\n",
    "fes_int = H1(mesh,order=order,complex=True)\n",
    "fes_surf = H1(mesh,order=order,complex=True,definedon=Gamma)\n",
    "\n",
    "fes = ProductSpace(fes_int,*( N*[fes_surf]) )"
   ]
  },
  {
   "cell_type": "code",
   "execution_count": 3,
   "metadata": {},
   "outputs": [],
   "source": [
    "from infinite_elements import *\n",
    "\n",
    "ie_mass,ie_laplace,__,ie_mass_x,ie_mass_xx,ie_laplace_x,ie_laplace_xx,_ = ie_matrices(N)\n",
    "\n",
    "ie_laplace_x[0,0]-=1/4"
   ]
  },
  {
   "cell_type": "code",
   "execution_count": 4,
   "metadata": {},
   "outputs": [],
   "source": [
    "p,q = fes.TnT()\n",
    "pint, qint = p[0],q[0]\n",
    "ds_g = ds(definedon=Gamma)\n",
    "\n",
    "#interior BFs\n",
    "Mint = BilinearForm(pint*qint*dx,symmtric=True).Assemble()\n",
    "Sint = BilinearForm(grad(pint)*grad(qint)*dx,symmetric=True).Assemble()\n",
    "\n",
    "#exterior BFs\n",
    "M = BilinearForm(sum(ie_mass[i,j]*p[i]*q[j]*ds_g\n",
    "                     for i in range(N+1) for j in range(N+1) if abs(ie_mass[i,j])>0),symmetric=True).Assemble()\n",
    "Mx = BilinearForm(sum(ie_mass_x[i,j]*p[i]*q[j]*ds_g\n",
    "                     for i in range(N+1) for j in range(N+1) if abs(ie_mass_x[i,j])>0),symmetric=True).Assemble()\n",
    "Mxx = BilinearForm(sum(ie_mass_xx[i,j]*p[i]*q[j]*ds_g\n",
    "                     for i in range(N+1) for j in range(N+1) if abs(ie_mass_xx[i,j])>0),symmetric=True).Assemble()\n",
    "\n",
    "S = BilinearForm(sum(ie_laplace[i,j]*p[i]*q[j]*ds_g\n",
    "                     for i in range(N+1) for j in range(N+1) if abs(ie_laplace[i,j])>0),symmetric=True).Assemble()\n",
    "Sx = BilinearForm(sum(ie_laplace_x[i,j]*p[i]*q[j]*ds_g\n",
    "                     for i in range(N+1) for j in range(N+1) if abs(ie_laplace_x[i,j])>0),symmetric=True).Assemble()\n",
    "Sxx = BilinearForm(\n",
    "    sum(ie_laplace_xx[i,j]*p[i]*q[j]*ds_g\n",
    "                     for i in range(N+1) for j in range(N+1) if abs(ie_laplace_xx[i,j])>0)\n",
    "    -sum(1/4*ie_mass[i,j]*p[i]*q[j]*ds_g\n",
    "                     for i in range(N+1) for j in range(N+1) if abs(ie_mass[i,j])>0)\n",
    "                      ,symmetric=True).Assemble()\n",
    "\n",
    "Ssurf = BilinearForm(sum(ie_mass[i,j]*p[i].Trace().Deriv()*q[j].Trace().Deriv()*ds_g\n",
    "                     for i in range(N+1) for j in range(N+1) if abs(ie_mass[i,j])>0),symmetric=True).Assemble()"
   ]
  },
  {
   "cell_type": "code",
   "execution_count": 5,
   "metadata": {},
   "outputs": [],
   "source": [
    "def mobius_scaling(alpha,beta,gamma,delta):\n",
    "        gf = GridFunction(fes,multidim=50)\n",
    "\n",
    "        Ph=array([\n",
    "            [0,0,0,0,2,0,0,0,1],\n",
    "            [0,0,0,0,0,1,1,0,0],\n",
    "            [0,0,0,0,0,0,0,0,0],\n",
    "            [0,0,0,1,0,0,0,0,0],\n",
    "            [0,0,0,0,0,0,0,0,0],\n",
    "            [0,0,0,0,0,0,0,0,0],\n",
    "            [0,-2,0,0,0,0,0,0,0],\n",
    "            [0,0,-1,0,0,0,0,0,0],\n",
    "            [0,0,0,0,0,0,0,0,0],\n",
    "            [0,0,0,0,0,0,0,0,0],\n",
    "            ])\n",
    "        Pt=array([\n",
    "            [0,0,0,0,0,0,0,0,0],\n",
    "            [0,0,0,0,0,0,0,0,0],\n",
    "            [0,0,0,0,0,0,0,0,0],\n",
    "            [0,0,0,0,0,0,0,0,0],\n",
    "            [0,0,0,0,0,0,0,0,0],\n",
    "            [1,0,0,0,0,0,0,0,0],\n",
    "            [0,0,0,0,0,0,0,0,0],\n",
    "            [0,0,0,0,0,0,0,0,0],\n",
    "            [0,0,0,0,0,0,0,0,0],\n",
    "            [0,0,0,0,0,0,0,1,0],\n",
    "            ])\n",
    "        Th=array([\n",
    "            [-beta,gamma,-alpha, 0, 0, 0, 0,0, 0, 0],\n",
    "            [1 ,0, 0, 0, 0, 0, 0,0, 0, 0],\n",
    "            [gamma ,0, 0,-beta,-alpha, 0, 0,0, 0, 0],\n",
    "            [0, 0, 0, 1, 0, 0, 0,0, 0, 0],\n",
    "            [alpha ,0, 0, 0, 0,-gamma, 0,0, 0, 0],\n",
    "            [0 ,0, 0, 0, 0, alpha,-gamma,0, 0, 0],\n",
    "            [0 ,0, 0, 0, 0, 0,-beta,gamma,-alpha, 0],\n",
    "            [0 ,0, 0, 0, 0, 0, 1,0, 0, 0],\n",
    "            [0 ,0, 0, 0, 0, 0, 0,0, 0, 1]\n",
    "            ])\n",
    "        Tt=array([\n",
    "            [0 ,-delta,0, 0, 0, 0, 0,0, 0, 0],\n",
    "            [0 , 0,1, 0, 0, 0, 0,0, 0, 0],\n",
    "            [-delta, 0,0, 0, 0, 0, 0,0, 0, 0],\n",
    "            [0,  0,0, 0, 1, 0, 0,0, 0, 0],\n",
    "            [-beta, 0,0, 0, 0, delta, 0,0, 0, 0],\n",
    "            [0 , 0,0, 0, 0,-beta, delta,0, 0, 0],\n",
    "            [0 , 0,0, 0, 0, 0, 0,-delta, 0, 0],\n",
    "            [0 , 0,0, 0, 0, 0, 0,0, 1, 0],\n",
    "            [1 ,0, 0, 0, 0, 0, 0,0, 0, 0]\n",
    "            ])\n",
    "\n",
    "        saialp=SaiALP([M.mat,Mx.mat,Mxx.mat,S.mat,Sx.mat,Sxx.mat,Ssurf.mat,Mint.mat,Sint.mat],Ph.T,Pt.T,Th,Tt,shift,fes.FreeDofs())\n",
    "        saialp.CalcInverse('sparsecholesky')\n",
    "        saialp.CalcKrylow(200)\n",
    "        lam=saialp.SolveHessenberg(gf.vecs,100)    \n",
    "        return lam"
   ]
  },
  {
   "cell_type": "code",
   "execution_count": 6,
   "metadata": {},
   "outputs": [
    {
     "name": "stdout",
     "output_type": "stream",
     "text": [
      "SaiALP:__init__ called\n",
      "initialized linearizeable EVP with dimensions n=8, m=9, N=6521 in 0.0016845479985931888 seconds\n",
      "called CalcInverse\n",
      "inverted in 0.09904093699879013 seconds\n",
      "CalcKrylow called\n",
      "building Krylow space of dimension 200\n",
      "starting iteration\n",
      "Krylowspace built in 7.478176413998881 seconds\n",
      "called SolveHessenberg\n",
      "solved Hessenberg EVP in 0.2957404509979824 seconds\n",
      "calculating 50 big vectors\n",
      "SaiALP:__init__ called\n",
      "initialized linearizeable EVP with dimensions n=8, m=9, N=6521 in 0.0007159639972087462 seconds\n",
      "called CalcInverse\n",
      "inverted in 0.11231642799975816 seconds\n",
      "CalcKrylow called\n",
      "building Krylow space of dimension 200\n",
      "starting iteration\n",
      "Krylowspace built in 7.329905923998012 seconds\n",
      "called SolveHessenberg\n",
      "solved Hessenberg EVP in 0.40468330400108243 seconds\n",
      "calculating 50 big vectors\n",
      "SaiALP:__init__ called\n",
      "initialized linearizeable EVP with dimensions n=8, m=9, N=6521 in 0.0007390390019281767 seconds\n",
      "called CalcInverse\n",
      "inverted in 0.09737494400178548 seconds\n",
      "CalcKrylow called\n",
      "building Krylow space of dimension 200\n",
      "starting iteration\n",
      "Krylowspace built in 7.453577350999694 seconds\n",
      "called SolveHessenberg\n",
      "solved Hessenberg EVP in 0.3234608610000578 seconds\n",
      "calculating 50 big vectors\n",
      "SaiALP:__init__ called\n",
      "initialized linearizeable EVP with dimensions n=8, m=9, N=6521 in 0.0008407130007981323 seconds\n",
      "called CalcInverse\n",
      "inverted in 0.0873511839999992 seconds\n",
      "CalcKrylow called\n",
      "building Krylow space of dimension 200\n",
      "starting iteration\n",
      "Krylowspace built in 7.310458223000751 seconds\n",
      "called SolveHessenberg\n",
      "solved Hessenberg EVP in 0.8332047340009012 seconds\n",
      "calculating 50 big vectors\n"
     ]
    }
   ],
   "source": [
    "#frequency-independent scaling\n",
    "\n",
    "lam_0 = mobius_scaling(0,0.2+1j,1,0)\n",
    "lam_v = mobius_scaling(0.5+0.5j,0,1,0)\n",
    "lam_c = mobius_scaling(0,1j,1,0.2)\n",
    "lam_b = mobius_scaling(1+1j,0.1,1,0)\n",
    "\n"
   ]
  },
  {
   "cell_type": "code",
   "execution_count": 7,
   "metadata": {},
   "outputs": [
    {
     "data": {
      "text/plain": [
       "<matplotlib.legend.Legend at 0x7fb7f428c760>"
      ]
     },
     "execution_count": 7,
     "metadata": {},
     "output_type": "execute_result"
    },
    {
     "data": {
      "image/png": "[encoded data removed]",
      "text/plain": [
       "<Figure size 432x288 with 1 Axes>"
      ]
     },
     "metadata": {
      "needs_background": "light"
     },
     "output_type": "display_data"
    }
   ],
   "source": [
    "plot(lam_0.real,lam_0.imag,'s',label='$\\sigma_0$')\n",
    "plot(lam_v.real,lam_v.imag,'o',label='$\\sigma_v$')\n",
    "plot(lam_b.real,lam_b.imag,'x',label='$\\sigma_b$')\n",
    "plot(lam_c.real,lam_c.imag,'+',label='$\\sigma_c$')\n",
    "\n",
    "loaded=loadtxt('dhankel_1_zeros.out')\n",
    "ref=(loaded[:,0]+1j*loaded[:,1])/R\n",
    "plot(ref.real,ref.imag,'.k',label='reference')\n",
    "\n",
    "xlim((-1,10))\n",
    "ylim((-5,0))\n",
    "legend()"
   ]
  },
  {
   "cell_type": "markdown",
   "metadata": {},
   "source": [
    "[<- back to main page](implementation.ipynb)"
   ]
  },
  {
   "cell_type": "code",
   "execution_count": null,
   "metadata": {},
   "outputs": [],
   "source": []
  }
 ],
 "metadata": {
  "kernelspec": {
   "display_name": "Python 3 (ipykernel)",
   "language": "python",
   "name": "python3"
  },
  "language_info": {
   "codemirror_mode": {
    "name": "ipython",
    "version": 3
   },
   "file_extension": ".py",
   "mimetype": "text/x-python",
   "name": "python",
   "nbconvert_exporter": "python",
   "pygments_lexer": "ipython3",
   "version": "3.10.12"
  }
 },
 "nbformat": 4,
 "nbformat_minor": 4
}
